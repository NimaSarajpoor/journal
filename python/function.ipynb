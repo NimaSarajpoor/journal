{
 "cells": [
  {
   "cell_type": "markdown",
   "id": "bc8ca93c-e358-4abf-8f6b-f3ba61cbf1ad",
   "metadata": {},
   "source": [
    "ref: https://third-bit.com/sdxpy/oop/"
   ]
  },
  {
   "cell_type": "code",
   "execution_count": 1,
   "id": "610831ec-47ec-4ab6-bec5-c806464a6596",
   "metadata": {},
   "outputs": [],
   "source": [
    "def add_two_numbers(x, y):\n",
    "    return x + y"
   ]
  },
  {
   "cell_type": "markdown",
   "id": "79477314-d430-40a9-a05d-320423c40e04",
   "metadata": {},
   "source": [
    "when program runs the function above, it stores the instructions as byte in memory. So, like any other object, we can use an alias:"
   ]
  },
  {
   "cell_type": "code",
   "execution_count": 2,
   "id": "25dea535-d380-401c-b2da-d8797fb7deb1",
   "metadata": {},
   "outputs": [
    {
     "name": "stdout",
     "output_type": "stream",
     "text": [
      "3\n"
     ]
    }
   ],
   "source": [
    "func_alias = add_two_numbers\n",
    "out = func_alias(1, 2)\n",
    "print(out)"
   ]
  },
  {
   "cell_type": "code",
   "execution_count": null,
   "id": "3dbf00db-7f0a-4fc2-a57a-4e2a349bc653",
   "metadata": {},
   "outputs": [],
   "source": []
  },
  {
   "cell_type": "markdown",
   "id": "aeb3b73e-719a-4d17-972b-67f4a40c1758",
   "metadata": {},
   "source": [
    "**What are `*args` and `**kwargs`?**"
   ]
  },
  {
   "cell_type": "code",
   "execution_count": 3,
   "id": "f973c7f1-5906-4bc5-8585-54b9bc25d7d5",
   "metadata": {},
   "outputs": [],
   "source": [
    "def func(x, y=1, *args, **kwargs):\n",
    "    print(x)\n",
    "    print(y)\n",
    "    print(*args)\n",
    "    print(**kwargs)\n",
    "    return"
   ]
  },
  {
   "cell_type": "code",
   "execution_count": 4,
   "id": "27b6aded-72e9-431a-82a2-a5a090cfcf62",
   "metadata": {},
   "outputs": [
    {
     "ename": "SyntaxError",
     "evalue": "positional argument follows keyword argument (1254262591.py, line 1)",
     "output_type": "error",
     "traceback": [
      "\u001b[0;36m  Cell \u001b[0;32mIn[4], line 1\u001b[0;36m\u001b[0m\n\u001b[0;31m    func(3, y=2, 5, z=10)\u001b[0m\n\u001b[0m                        ^\u001b[0m\n\u001b[0;31mSyntaxError\u001b[0m\u001b[0;31m:\u001b[0m positional argument follows keyword argument\n"
     ]
    }
   ],
   "source": [
    "func(3, y=2, 5, z=10)"
   ]
  },
  {
   "cell_type": "markdown",
   "id": "73f540ea-5288-4987-a7b5-46ca9cfadf66",
   "metadata": {},
   "source": [
    "all positional arguments should appear first. So, let's remove `y=1`"
   ]
  },
  {
   "cell_type": "code",
   "execution_count": 13,
   "id": "4009044c-e191-446c-afca-4b24e8d384f9",
   "metadata": {},
   "outputs": [],
   "source": [
    "def func(x, *args, **kwargs):\n",
    "    return x, args, kwargs"
   ]
  },
  {
   "cell_type": "code",
   "execution_count": 14,
   "id": "400b13da-7186-46e1-b166-3e59c39fb377",
   "metadata": {},
   "outputs": [],
   "source": [
    "x, args, kwargs = func(1, 2, 3, p=10, q=11)"
   ]
  },
  {
   "cell_type": "code",
   "execution_count": 15,
   "id": "bebc563c-de51-495a-b16f-629b07a008f2",
   "metadata": {},
   "outputs": [
    {
     "data": {
      "text/plain": [
       "1"
      ]
     },
     "execution_count": 15,
     "metadata": {},
     "output_type": "execute_result"
    }
   ],
   "source": [
    "x"
   ]
  },
  {
   "cell_type": "code",
   "execution_count": 16,
   "id": "50e6923e-6913-4d5e-bef8-14248ac54785",
   "metadata": {},
   "outputs": [
    {
     "data": {
      "text/plain": [
       "(2, 3)"
      ]
     },
     "execution_count": 16,
     "metadata": {},
     "output_type": "execute_result"
    }
   ],
   "source": [
    "args"
   ]
  },
  {
   "cell_type": "code",
   "execution_count": 17,
   "id": "970f8937-ddb5-4b23-abbf-448d42cdf017",
   "metadata": {},
   "outputs": [
    {
     "data": {
      "text/plain": [
       "{'p': 10, 'q': 11}"
      ]
     },
     "execution_count": 17,
     "metadata": {},
     "output_type": "execute_result"
    }
   ],
   "source": [
    "kwargs"
   ]
  },
  {
   "cell_type": "markdown",
   "id": "8008de61-3ff9-4ed6-aa72-71e816e273b7",
   "metadata": {},
   "source": [
    "This allows to have variable arguments."
   ]
  },
  {
   "cell_type": "code",
   "execution_count": null,
   "id": "b38eba19-4416-4237-a75e-4f9c16393e8e",
   "metadata": {},
   "outputs": [],
   "source": []
  }
 ],
 "metadata": {
  "kernelspec": {
   "display_name": "Python 3 (ipykernel)",
   "language": "python",
   "name": "python3"
  },
  "language_info": {
   "codemirror_mode": {
    "name": "ipython",
    "version": 3
   },
   "file_extension": ".py",
   "mimetype": "text/x-python",
   "name": "python",
   "nbconvert_exporter": "python",
   "pygments_lexer": "ipython3",
   "version": "3.13.2"
  }
 },
 "nbformat": 4,
 "nbformat_minor": 5
}
