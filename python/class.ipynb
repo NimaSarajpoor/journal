{
 "cells": [
  {
   "cell_type": "markdown",
   "id": "017b78f8-5872-477d-960e-6a7dc63b8f34",
   "metadata": {},
   "source": [
    "ref: https://third-bit.com/sdxpy/oop/"
   ]
  },
  {
   "cell_type": "code",
   "execution_count": 2,
   "id": "cb61614f-0fda-4346-a25d-e2770b7c40cd",
   "metadata": {},
   "outputs": [],
   "source": [
    "class Shape:\n",
    "    \"\"\"\n",
    "    this is doc of class\n",
    "    \"\"\"\n",
    "    def __init__(self, name):\n",
    "        \"\"\"\n",
    "        this is doc of __init__ method\n",
    "        \"\"\"\n",
    "        self.name = name\n",
    "\n",
    "    def perimeter(self):\n",
    "        raise NotImplementedError(\"perimeter\")\n",
    "\n",
    "    def area(self):\n",
    "        raise NotImplementedError(\"area\")"
   ]
  },
  {
   "cell_type": "code",
   "execution_count": 3,
   "id": "a6a56ee0-6924-4811-9f1a-df577911c707",
   "metadata": {},
   "outputs": [],
   "source": [
    "# creating an instance\n",
    "shape = Shape('square')"
   ]
  },
  {
   "cell_type": "markdown",
   "id": "bb1711e7-470c-4532-8561-ec4c25ea7756",
   "metadata": {},
   "source": [
    "let's check a few stuff about shape!"
   ]
  },
  {
   "cell_type": "code",
   "execution_count": 4,
   "id": "848a3cf7-075d-4a1b-99c2-643d1da45ed8",
   "metadata": {},
   "outputs": [
    {
     "data": {
      "text/plain": [
       "__main__.Shape"
      ]
     },
     "execution_count": 4,
     "metadata": {},
     "output_type": "execute_result"
    }
   ],
   "source": [
    "type(shape)"
   ]
  },
  {
   "cell_type": "code",
   "execution_count": 5,
   "id": "dd3766de-8a84-49ac-96e8-e6472f2ea226",
   "metadata": {},
   "outputs": [
    {
     "data": {
      "text/plain": [
       "{'name': 'square'}"
      ]
     },
     "execution_count": 5,
     "metadata": {},
     "output_type": "execute_result"
    }
   ],
   "source": [
    "shape.__dict__"
   ]
  },
  {
   "cell_type": "code",
   "execution_count": 6,
   "id": "709b3288-621d-4571-8b42-6c7a547f7225",
   "metadata": {},
   "outputs": [
    {
     "data": {
      "text/plain": [
       "['__class__',\n",
       " '__delattr__',\n",
       " '__dict__',\n",
       " '__dir__',\n",
       " '__doc__',\n",
       " '__eq__',\n",
       " '__firstlineno__',\n",
       " '__format__',\n",
       " '__ge__',\n",
       " '__getattribute__',\n",
       " '__getstate__',\n",
       " '__gt__',\n",
       " '__hash__',\n",
       " '__init__',\n",
       " '__init_subclass__',\n",
       " '__le__',\n",
       " '__lt__',\n",
       " '__module__',\n",
       " '__ne__',\n",
       " '__new__',\n",
       " '__reduce__',\n",
       " '__reduce_ex__',\n",
       " '__repr__',\n",
       " '__setattr__',\n",
       " '__sizeof__',\n",
       " '__static_attributes__',\n",
       " '__str__',\n",
       " '__subclasshook__',\n",
       " '__weakref__',\n",
       " 'area',\n",
       " 'name',\n",
       " 'perimeter']"
      ]
     },
     "execution_count": 6,
     "metadata": {},
     "output_type": "execute_result"
    }
   ],
   "source": [
    "dir(shape)"
   ]
  },
  {
   "cell_type": "code",
   "execution_count": 7,
   "id": "9e36d59e-e072-40cb-834e-f9b71a65aa74",
   "metadata": {},
   "outputs": [
    {
     "ename": "NotImplementedError",
     "evalue": "perimeter",
     "output_type": "error",
     "traceback": [
      "\u001b[0;31m---------------------------------------------------------------------------\u001b[0m",
      "\u001b[0;31mNotImplementedError\u001b[0m                       Traceback (most recent call last)",
      "Cell \u001b[0;32mIn[7], line 1\u001b[0m\n\u001b[0;32m----> 1\u001b[0m \u001b[43mshape\u001b[49m\u001b[38;5;241;43m.\u001b[39;49m\u001b[43mperimeter\u001b[49m\u001b[43m(\u001b[49m\u001b[43m)\u001b[49m\n",
      "Cell \u001b[0;32mIn[2], line 12\u001b[0m, in \u001b[0;36mShape.perimeter\u001b[0;34m(self)\u001b[0m\n\u001b[1;32m     11\u001b[0m \u001b[38;5;28;01mdef\u001b[39;00m\u001b[38;5;250m \u001b[39m\u001b[38;5;21mperimeter\u001b[39m(\u001b[38;5;28mself\u001b[39m):\n\u001b[0;32m---> 12\u001b[0m     \u001b[38;5;28;01mraise\u001b[39;00m \u001b[38;5;167;01mNotImplementedError\u001b[39;00m(\u001b[38;5;124m\"\u001b[39m\u001b[38;5;124mperimeter\u001b[39m\u001b[38;5;124m\"\u001b[39m)\n",
      "\u001b[0;31mNotImplementedError\u001b[0m: perimeter"
     ]
    }
   ],
   "source": [
    "shape.perimeter()"
   ]
  },
  {
   "cell_type": "markdown",
   "id": "9065c3d3-c1f0-4ea5-acdc-4960bb121dff",
   "metadata": {},
   "source": [
    "The error is expected as the method is not implemented. It is just there as placeholder. So, one can derive a new class from `Shape` to represent `Circle`."
   ]
  },
  {
   "cell_type": "code",
   "execution_count": 8,
   "id": "f65233dd-9f36-4c10-aeac-e315359bbb04",
   "metadata": {},
   "outputs": [],
   "source": [
    "import math\n",
    "\n",
    "class Circle(Shape):\n",
    "    def __init__(self, name, radius):\n",
    "        super().__init__(name)  # inheritence \n",
    "        self.radius = radius\n",
    "\n",
    "    def perimeter(self):\n",
    "        return 2 * math.pi * self.radius\n",
    "\n",
    "    def area(self):\n",
    "        return math.pi * (self.radius ** 2)\n",
    "        "
   ]
  },
  {
   "cell_type": "code",
   "execution_count": 9,
   "id": "8445557d-1e30-42dc-8d54-085a22ced24b",
   "metadata": {},
   "outputs": [
    {
     "name": "stdout",
     "output_type": "stream",
     "text": [
      "name:  circle\n",
      "perimeter:  62.83185307179586\n",
      "area:  314.1592653589793\n"
     ]
    }
   ],
   "source": [
    "circle = Circle('circle', 10)\n",
    "\n",
    "print('name: ', circle.name)\n",
    "print('perimeter: ', circle.perimeter())\n",
    "print('area: ', circle.area())"
   ]
  },
  {
   "cell_type": "code",
   "execution_count": 22,
   "id": "31e5942e-b775-42b5-8438-12be72d688a6",
   "metadata": {},
   "outputs": [
    {
     "data": {
      "text/plain": [
       "(__main__.Shape,)"
      ]
     },
     "execution_count": 22,
     "metadata": {},
     "output_type": "execute_result"
    }
   ],
   "source": [
    "type(circle).__bases__"
   ]
  }
 ],
 "metadata": {
  "kernelspec": {
   "display_name": "Python 3 (ipykernel)",
   "language": "python",
   "name": "python3"
  },
  "language_info": {
   "codemirror_mode": {
    "name": "ipython",
    "version": 3
   },
   "file_extension": ".py",
   "mimetype": "text/x-python",
   "name": "python",
   "nbconvert_exporter": "python",
   "pygments_lexer": "ipython3",
   "version": "3.13.2"
  }
 },
 "nbformat": 4,
 "nbformat_minor": 5
}
